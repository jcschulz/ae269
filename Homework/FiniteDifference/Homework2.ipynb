{
 "cells": [
  {
   "cell_type": "code",
   "execution_count": null,
   "metadata": {},
   "outputs": [],
   "source": [
    "%matplotlib notebook\n",
    "\n",
    "import math\n",
    "import numpy as np\n",
    "import matplotlib\n",
    "import matplotlib.pyplot as plt\n",
    "\n",
    "import seaborn as sns\n",
    "sns.set()"
   ]
  },
  {
   "cell_type": "markdown",
   "metadata": {},
   "source": [
    "# Homework 2: Finite-Difference Approximations\n",
    "\n",
    "Write a program to compute the first and second derivatives of the function\n",
    "\n",
    "$$\n",
    "f(x) = e^{\\left(\\frac{x}{2\\pi}\\right)}  \\sin{(x)}\n",
    "$$\n",
    "\n",
    "using finite-difference approximations. Your program should take as input arguments the order of the finite-difference approximation and the direction of the finite-difference, e.g., centered, forward, backward. Your program must be able\n",
    "\n",
    "Compute the first-derivative using\n",
    "\n",
    "- First-order, forward difference, $\\delta^{+}_x$\n",
    "\n",
    "- First-order, backward difference, $\\delta^{-}_x$\n",
    "\n",
    "- Second-order, central difference, $\\delta_x$\n",
    "\n",
    "- At least **two** high-order difference formulae - Use the lecture notes provided to derive and compute the coefficients for the difference formulae of higher than second-order. You can not use the example derived in class for the third-order, backward-biased finite-difference.\n",
    "    \n",
    "Compute the second-derivative using\n",
    "\n",
    "- Second-order, central difference $\\delta_{xx}$\n",
    "\n",
    "At a minimum, your program must be able to approximate the first derivatives using 5 different difference formulae and approximate second derivatives using the second-order central difference formula. Extensions or generalizations of your program beyond that are welcome, but not required.\n",
    "\n",
    "Consider the domain defined by $0 \\le 0 \\le 20$; however, you may need to extend the domain to ensure that all points in the finite-difference stencil are defined within our mesh. In other words, you should carefully discretize the domain so that you do not need any \"special\" handling near the boundaries.\n",
    "\n",
    "For example, consider the following discretizations."
   ]
  },
  {
   "cell_type": "code",
   "execution_count": null,
   "metadata": {},
   "outputs": [],
   "source": [
    "# 24 points\n",
    "x_low = np.linspace(-2.0, 22.0, 25)\n",
    "print(f'Coarse mesh has spacing : {x_low[1] - x_low[0]}')\n",
    "\n",
    "# In this case, it would not be hard to find the indices where x = 0 and x = 20, \n",
    "# but a more general way to do this is using numpy.where()\n",
    "#\n",
    "iLow_start = np.where(x_low >= 0)[0][0]\n",
    "iLow_stop = np.where(x_low <= 20.0)[0][-1]\n",
    "print(f'x = {x_low[iLow_start]} located at i = {iLow_start}')\n",
    "print(f'x = {x_low[iLow_stop]} located at i = {iLow_stop}\\n')\n",
    "\n",
    "# 96 points\n",
    "x_medium = np.linspace(-2.0, 22.0, 97)\n",
    "print(f'Base mesh has spacing : {x_medium[1] - x_medium[0]}')\n",
    "\n",
    "iMedium_start = np.where(x_medium >= 0)[0][0]\n",
    "iMedium_stop = np.where(x_medium <= 20.0)[0][-1]\n",
    "print(f'x = {x_medium[iMedium_start]} located at i = {iMedium_start}')\n",
    "print(f'x = {x_medium[iMedium_stop]} located at i = {iMedium_stop}\\n')\n",
    "\n",
    "# 192 points\n",
    "x_high = np.linspace(-2.0, 22.0, 193)\n",
    "print(f'Fine mesh has spacing : {x_high[1] - x_high[0]}')\n",
    "\n",
    "iHigh_start = np.where(x_high >= 0)[0][0]\n",
    "iHigh_stop = np.where(x_high <= 20.0)[0][-1]\n",
    "print(f'x = {x_high[iHigh_start]} located at i = {iHigh_start}')\n",
    "print(f'x = {x_high[iHigh_stop]} located at i = {iHigh_stop}\\n')"
   ]
  },
  {
   "cell_type": "markdown",
   "metadata": {},
   "source": [
    "Plotting the function $f(x) = e^{\\left(\\frac{x}{2\\pi}\\right)}  \\sin{(x)}$\n"
   ]
  },
  {
   "cell_type": "code",
   "execution_count": null,
   "metadata": {},
   "outputs": [],
   "source": [
    "f_high = np.exp(x_high / ( 2.0 * np.pi) ) * np.sin(x_high)\n",
    "    \n",
    "fig = plt.figure()\n",
    "ax = fig.add_subplot(111)\n",
    "line = ax.plot(x_high, f_high, lw=1, c='k', marker='o', ms=2)\n",
    "\n",
    "ax.set_xlabel(r'$x$')\n",
    "ax.set_ylabel(r'$f(x) = \\sin(x) \\,e^{x / (2 \\pi)} $')"
   ]
  },
  {
   "cell_type": "markdown",
   "metadata": {},
   "source": [
    "## Deriving high-order finite-difference approximations\n",
    "\n",
    "You **must define and solve the system of equations for the coefficients of the finite-difference formulae to recieve full credit**. There are many references providing tables of these coefficients for various orders and stencils, e.g., [Wikipedia](https://en.wikipedia.org/wiki/Finite_difference_coefficient); though, you certainly can (and probably should) check your solution. \n",
    "\n",
    "For example, in class we derived the coefficients for a third-order, backward-biased difference formula using the points $x_{i-2}$, $x_{i-1}$, $x_i$ , and $x_{i+1}$. Using a Taylor series expansion about each point, we were able to determine a system of equations for the coefficients."
   ]
  },
  {
   "cell_type": "code",
   "execution_count": null,
   "metadata": {},
   "outputs": [],
   "source": [
    "A = np.array([[1, 1, 1, 1], [-2, -1, 0, 1], [4, 1, 0, 1], [-8, -1, 0, 1]])\n",
    "b = np.array([0, 1, 0, 0])\n",
    "coeffs = np.linalg.solve(A,b)\n",
    "print(coeffs)"
   ]
  },
  {
   "cell_type": "markdown",
   "metadata": {},
   "source": [
    "With the result that\n",
    "$$\n",
    "\\frac{\\delta f}{\\delta x}\\bigg\\rvert_i = \\left( \\delta^{-}_x f \\right)_i = \\frac{1}{6 \\Delta x} \\left(  f_{i-2} - 6 f_{i-1} + 3 f_i + 2 f_{i+1} \\right)\n",
    "$$"
   ]
  },
  {
   "cell_type": "markdown",
   "metadata": {},
   "source": [
    "## Finite-difference Program\n",
    "\n",
    "Your program should define a set of functions to compute finite-difference approximations. At a minimum, your functions would take as input arguments the mesh (or equivalent just the values of the function on the stencil) and return the approximated derivated. Functions defined like this compute the finite-difference at a single point.\n",
    "\n",
    "For example, consider the following program."
   ]
  },
  {
   "cell_type": "code",
   "execution_count": null,
   "metadata": {},
   "outputs": [],
   "source": [
    "def forward_first_v1(u, deltaX):\n",
    "    \"\"\"\n",
    "    A possible implementation for computing the first derivative using \n",
    "    a first-order, forward difference formula.\n",
    "    \n",
    "    Args:\n",
    "        u (array-like) - Values of the function on a 1-D uniform mesh\n",
    "        deltaX (float) - Mesh spacing\n",
    "    Returns:\n",
    "        dudx (array-like) - first-derivative of the function u with respect to x.\n",
    "    \"\"\"\n",
    "    # dudx is defined as the same size as u\n",
    "    dudx = np.zeros_like(u)\n",
    "    \n",
    "    # Compute dudx from 0 to the second-to-the last index in the array. The \n",
    "    # range should determined by the width of the stencil.\n",
    "    #\n",
    "    for i in range(len(u)-1):\n",
    "        dudx[i] = (u[i+1] - u[i]) / deltaX\n",
    "        \n",
    "    # Note: We can't compute dudx at the last index. It is still defined to\n",
    "    # its initial value of zero.\n",
    "    return dudx"
   ]
  },
  {
   "cell_type": "code",
   "execution_count": null,
   "metadata": {},
   "outputs": [],
   "source": [
    "def forward_first_v2(uR, uL, deltaX):\n",
    "    \"\"\"\n",
    "    Another possible implementation for computing the first derivative using \n",
    "    a first-order, forward difference formula.\n",
    "    \n",
    "    Args:\n",
    "        uR (float) - Value of u at the i+1 mesh point\n",
    "        uL (float) - Value of u at the i mesh point\n",
    "        deltaX (float) - Mesh spacing\n",
    "    Returns:\n",
    "        dudx (float) - First-derivative of the function u with respect to x. \n",
    "    \"\"\"    \n",
    "    dudx = (uR - uL) / deltaX"
   ]
  },
  {
   "cell_type": "code",
   "execution_count": null,
   "metadata": {},
   "outputs": [],
   "source": [
    "def forward_first_v3(u, deltaX):\n",
    "    \"\"\"\n",
    "    Compute the first derivative using a first-order, forward difference formula.\n",
    "    \n",
    "    Args:\n",
    "        u (array-like) - Values of the function on a 1-D uniform mesh\n",
    "        deltaX (float) - Mesh spacing\n",
    "    Returns:\n",
    "        dudx (array-like) - first-derivative of the function u with respect to x.\n",
    "    \"\"\"\n",
    "    # Numpy supports \"vectorized\" notation. Writing/reading code like this is \n",
    "    # difficult at first, but it is the most efficient (and compact) method.\n",
    "    #\n",
    "    dfdx = np.zeros_like(u)\n",
    "    dfdx[:-1] = (u[1:] - u[:-1]) / deltaX\n",
    "    return dfdx"
   ]
  },
  {
   "cell_type": "markdown",
   "metadata": {},
   "source": [
    "In addition to your program returning the values of the finite-difference formulae, it should also return the finite-difference matrix operator as a **banded** matrix. For example, let $u$ be a vector function of the mesh points, then\n",
    "\n",
    "$$\n",
    "\\frac{\\textrm{d} \\mathbf{u} }{\\textrm{d} \\mathbf{x} } = \\mathcal{D} \\mathbf{u}\n",
    "$$\n",
    "\n",
    "where the operator, $\\mathcal{D}$, is a banded matrix. For example, for the forward, first-order finite-difference formula for the first-derivative, you would define the function for the difference operator as the following."
   ]
  },
  {
   "cell_type": "code",
   "execution_count": null,
   "metadata": {},
   "outputs": [],
   "source": [
    "def forward_first_diffop(N, deltaX):\n",
    "    \"\"\"\n",
    "    Return a banded-matrix for the forward, first-order finite-difference approximation.\n",
    "    \n",
    "    Args:\n",
    "        N (int) : Number of mesh points.\n",
    "    Returns\n",
    "        (ab, offsets) : Return a tuple of the diagonal elements plus the offsets. The \n",
    "            diagonals contain the non-zero entries of the difference operator, order \n",
    "            from the top to bottom diagonals as defined by the offsets array.\n",
    "    \"\"\"\n",
    "    ab = np.ones((2,N)) \n",
    "    ab[0] = 1 / deltaX  # u_{i+1} - top diagonal\n",
    "    ab[1] = -1 / deltaX # u_i - main diagonal\n",
    "    offsets = np.array([1,0])\n",
    "    return (ab, offsets)"
   ]
  },
  {
   "cell_type": "markdown",
   "metadata": {},
   "source": [
    "We can the use the difference operator to compute the finite-difference approximations as a matrix-vector multiply rather than as \"loop\". "
   ]
  },
  {
   "cell_type": "code",
   "execution_count": null,
   "metadata": {},
   "outputs": [],
   "source": [
    "from scipy.sparse import dia_matrix\n",
    "\n",
    "N = len(x_high)\n",
    "deltaX = x_high[1] - x_high[0]\n",
    "D = dia_matrix(forward_first_diffop(N, deltaX), shape=(N, N))\n",
    "\n",
    "# Compute the finite-difference\n",
    "dfdx = D * f_high\n",
    "\n",
    "# Plot the result\n",
    "fig = plt.figure()\n",
    "ax = fig.add_subplot(111)\n",
    "\n",
    "line = ax.plot(x_high[iHigh_start:iHigh_stop], \n",
    "               f_high[iHigh_start:iHigh_stop], \n",
    "               lw=1, \n",
    "               c='b', \n",
    "               marker='^', \n",
    "               ms=2,\n",
    "               label=r'$f(x)$')\n",
    "line = ax.plot(x_high[iHigh_start:iHigh_stop], \n",
    "               dfdx[iHigh_start:iHigh_stop], \n",
    "               lw=1, \n",
    "               c='k',\n",
    "               marker='o', \n",
    "               ms=2, \n",
    "               label=r'$f^{\\prime}(x)$')\n",
    "\n",
    "ax.legend()\n",
    "ax.set_xlabel(r'$x$')\n",
    "ax.set_ylabel(r'$f(x)$, $f^{\\prime}(x)$')"
   ]
  },
  {
   "cell_type": "markdown",
   "metadata": {},
   "source": [
    "## Testing your program\n",
    "\n",
    "You must test your finite-difference program. In this exercise, the derivative of the function $f(x) = e^{\\left(\\frac{x}{2\\pi}\\right)} \\sin{(x)}$ can be determined analytically; however, in practice, this is often not the case. Instead we test programs using input arguments whose outputs give us known solutions. For example, consider the functions, $f(x) = x$ or $f(x) = x^2$. The derivatives of these functions are much easier to compute and visualize graphically.\n",
    "\n",
    "Please describe how you tested your progrm. Provide any testing routines and results."
   ]
  },
  {
   "cell_type": "markdown",
   "metadata": {},
   "source": [
    "## Analyze the results\n",
    "\n",
    "For each of the finite-difference formulae you have used, compute the mean-squared error of the difference approximations on three difference meshes of increasing refinement, i.e., $N =$ 24, 48, 96. The mean-sqaure error is defined as\n",
    "\n",
    "$$\n",
    "MSE(x) = \\frac{1}{N} \\sum_{i=0}^{N} \\left(\\frac{\\partial f}{\\partial x} - \\frac{\\delta f}{\\delta x}\\right)^2\n",
    "$$\n",
    "\n",
    "Plot the mean-square error as a function of the mesh size for the first-derivative and second-derivative  finite-difference approximations. Discuss the results.  "
   ]
  },
  {
   "cell_type": "markdown",
   "metadata": {},
   "source": [
    "## Grading Rubric\n",
    "\n",
    "Your program should have functions that compute the first derivative of a function using 5 difference finite-difference formulae. For each finite-difference formulae, one function should return the approximated values of the derivatives at each point within the mesh defined by the one-dimensional domain $0 \\le x \\le 20$. Another function should return the banded matrix form of the difference operator. A second pair of functions should return the approximated values of the second derivative as well as the banded matrix form of that difference operator. Each of these functions should be tested using a simplified input function. The results for the first-derivative and second-derivative should be plotted, and you should analyze the trends you observe in the mean-square error of the finite-difference approximations on three difference mesh sizes. \n",
    "\n",
    "- Finite-diffrence formula (first derivative) : 50%\n",
    "\n",
    "\n",
    "- Finite-diffrence formula (second derivative) : 10%\n",
    "\n",
    "\n",
    "- High-order finite-difference formula (derivation included) : 20%\n",
    "\n",
    "\n",
    "- Testing : 10%\n",
    "\n",
    "\n",
    "- Analysis : 10%"
   ]
  },
  {
   "cell_type": "code",
   "execution_count": null,
   "metadata": {},
   "outputs": [],
   "source": []
  }
 ],
 "metadata": {
  "kernelspec": {
   "display_name": "Python 3",
   "language": "python",
   "name": "python3"
  },
  "language_info": {
   "codemirror_mode": {
    "name": "ipython",
    "version": 3
   },
   "file_extension": ".py",
   "mimetype": "text/x-python",
   "name": "python",
   "nbconvert_exporter": "python",
   "pygments_lexer": "ipython3",
   "version": "3.7.6"
  }
 },
 "nbformat": 4,
 "nbformat_minor": 4
}
