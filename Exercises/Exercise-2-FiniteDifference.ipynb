{
 "cells": [
  {
   "cell_type": "code",
   "execution_count": null,
   "metadata": {},
   "outputs": [],
   "source": [
    "%matplotlib notebook\n",
    "\n",
    "import numpy as np\n",
    "import matplotlib\n",
    "import matplotlib.pyplot as plt\n",
    "\n",
    "import seaborn as sns\n",
    "sns.set()"
   ]
  },
  {
   "cell_type": "markdown",
   "metadata": {},
   "source": [
    "Compute the coefficinets of a third-order, difference formula that uses the points $i-2$, $i-1$, $i$ , and $i+1$ "
   ]
  },
  {
   "cell_type": "code",
   "execution_count": null,
   "metadata": {},
   "outputs": [],
   "source": []
  },
  {
   "cell_type": "markdown",
   "metadata": {},
   "source": [
    "Use Lagrange interpolation to approximation the function, $f(x) = x^3$ on the interval, $-1 \\le x \\le 1$. Use three control points, $x_0 = -0.5$, $x_1 = 0.0$, and $x_2 = 0.5$."
   ]
  },
  {
   "cell_type": "code",
   "execution_count": null,
   "metadata": {},
   "outputs": [],
   "source": [
    "N = 100\n",
    "# x = ??\n",
    "\n",
    "# Define the control points\n",
    "x0 = -0.5\n",
    "x1 = 0.0\n",
    "x2 = 0.5"
   ]
  },
  {
   "cell_type": "code",
   "execution_count": null,
   "metadata": {},
   "outputs": [],
   "source": [
    "# Evaluate the control points\n",
    "u0 = x0**3\n",
    "u1 = x1**3\n",
    "u2 = x2**3"
   ]
  },
  {
   "cell_type": "code",
   "execution_count": null,
   "metadata": {},
   "outputs": [],
   "source": [
    "# Define the coefficients\n",
    "# a0 = \n",
    "# a1 = \n",
    "# a2 ="
   ]
  },
  {
   "cell_type": "code",
   "execution_count": null,
   "metadata": {},
   "outputs": [],
   "source": [
    "f = x**3\n",
    "Lf = u0 * a0 + u1 * a1 + u2 * a2"
   ]
  },
  {
   "cell_type": "code",
   "execution_count": null,
   "metadata": {},
   "outputs": [],
   "source": [
    "fig, ax = plt.subplots(nrows=1, ncols=1, figsize=(9, 6))\n",
    "\n",
    "line = ax.plot(x, f, lw=2, color='b', label=r'$f(x)$')\n",
    "line = ax.plot(x, Lf, lw=2, color='k', label=r'$L(x)$')\n",
    "\n",
    "ax.set_title(\"Lagrangian Interpolation\", fontsize=15) \n",
    "ax.legend(loc=4, fontsize=15)\n",
    "ax.set_xlabel(r'$x$', fontsize=15.0)\n",
    "ax.set_ylabel(r'$y$', fontsize=15.0)    "
   ]
  },
  {
   "cell_type": "markdown",
   "metadata": {},
   "source": [
    "Compute the coefficients for a Pade formula to approximate the first-order derivative?"
   ]
  },
  {
   "cell_type": "code",
   "execution_count": null,
   "metadata": {},
   "outputs": [],
   "source": []
  }
 ],
 "metadata": {
  "kernelspec": {
   "display_name": "Python 3",
   "language": "python",
   "name": "python3"
  },
  "language_info": {
   "codemirror_mode": {
    "name": "ipython",
    "version": 3
   },
   "file_extension": ".py",
   "mimetype": "text/x-python",
   "name": "python",
   "nbconvert_exporter": "python",
   "pygments_lexer": "ipython3",
   "version": "3.7.6"
  }
 },
 "nbformat": 4,
 "nbformat_minor": 4
}
