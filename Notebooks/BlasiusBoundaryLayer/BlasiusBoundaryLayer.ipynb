{
 "cells": [
  {
   "cell_type": "markdown",
   "metadata": {},
   "source": [
    "# Similarity Solutions for Steady Two-dimensional Flow\n",
    "\n",
    "## The Blasius Solution for Flat-Plate Flow\n",
    "\n",
    "\n",
    "\\begin{equation}\n",
    "f^{'''} + f f^{''} = 0\n",
    "\\end{equation}\n",
    "\n",
    "with the no-slip conditions $u(x,0) = v(x,0) = 0$ and the freestream-merge condition, $u(x,\\infty) = U$, convert to\n",
    "\n",
    "\\begin{align}\n",
    "& f^{'}(0) = f(0) = 0 \\\\\n",
    "& f^{'}(\\infty) = 1\n",
    "\\end{align}"
   ]
  },
  {
   "cell_type": "code",
   "execution_count": 1,
   "metadata": {},
   "outputs": [],
   "source": [
    "import numpy as np\n",
    "import matplotlib.pyplot as plt\n",
    "import ode"
   ]
  },
  {
   "cell_type": "code",
   "execution_count": 2,
   "metadata": {},
   "outputs": [],
   "source": [
    "def fblasius(t, y):\n",
    "    \"\"\"\n",
    "    The Blasius equation for the solution to a laminar boundary layer\n",
    "    converted into a system of first-order ODE's.\n",
    "    \"\"\"\n",
    "    return [y[1], y[2], -y[0]*y[2]]"
   ]
  },
  {
   "cell_type": "code",
   "execution_count": 3,
   "metadata": {},
   "outputs": [
    {
     "name": "stdout",
     "output_type": "stream",
     "text": [
      "n = 0  s1 = 0.5168454439670535 and ds = -0.2831545560329466\n",
      "n = 1  s1 = 0.45946274534749215 and ds = -0.05738269861956132\n",
      "n = 2  s1 = 0.4646853908292342 and ds = 0.005222645481742035\n",
      "n = 3  s1 = 0.46459292473573505 and ds = -9.246609349916264e-05\n",
      "Solution converged for eps = 0.001 and s1 =0.46459292473573505 and ds = -9.246609349916264e-05. \n",
      "\n"
     ]
    }
   ],
   "source": [
    "def dsfunction(phi0,phi1,s0,s1):\n",
    "    if (abs(phi1-phi0)>0.0):   \n",
    "        return    -phi1 *(s1 - s0)/float(phi1 - phi0)\n",
    "    else:\n",
    "        return 0.0\n",
    "\n",
    "solver = ode.euler\n",
    "    \n",
    "xmin = 0\n",
    "xmax = 5.750\n",
    "\n",
    "N = 400  # no x-values\n",
    "x = np.linspace(xmin, xmax, N+1)\n",
    "\n",
    "# Guessed values\n",
    "s=[0.1,0.8]\n",
    "\n",
    "z0 = np.zeros(3)\n",
    "z0[2] = s[0]\n",
    "\n",
    "beta = 1.0 #Boundary value for eta=infty\n",
    "\n",
    "## Compute phi0\n",
    "\n",
    "u = solver(fblasius, z0, x)\n",
    "phi0 = u[-1,1] - beta\n",
    "\n",
    "nmax=10\n",
    "eps = 1.0e-3\n",
    "for n in range(nmax):\n",
    "    z0[2] = s[1]\n",
    "    u = solver(fblasius, z0, x)\n",
    "    phi1 = u[-1,1] - beta\n",
    "    ds = dsfunction(phi0,phi1,s[0],s[1])\n",
    "    s[0]  = s[1]\n",
    "    s[1]  += ds\n",
    "    phi0 = phi1\n",
    "    print('n = {}  s1 = {} and ds = {}'.format(n,s[1],ds))\n",
    "    \n",
    "    if (abs(ds)<=eps):\n",
    "        print('Solution converged for eps = {} and s1 ={} and ds = {}. \\n'.format(eps,s[1],ds))\n",
    "        break"
   ]
  },
  {
   "cell_type": "code",
   "execution_count": 4,
   "metadata": {},
   "outputs": [
    {
     "data": {
      "text/plain": [
       "[<matplotlib.lines.Line2D at 0x11daeddd8>]"
      ]
     },
     "execution_count": 4,
     "metadata": {},
     "output_type": "execute_result"
    },
    {
     "data": {
      "image/png": "[encoded data removed]",
      "text/plain": [
       "<Figure size 576x432 with 1 Axes>"
      ]
     },
     "metadata": {
      "needs_background": "light"
     },
     "output_type": "display_data"
    }
   ],
   "source": [
    "fig, ax = plt.subplots(nrows=1, ncols=1, figsize=(8, 6))\n",
    "fig.tight_layout(rect=(0.05,0.05,0.9,0.9))\n",
    "\n",
    "ax.plot(u[:,1], x)\n",
    "ax.plot(u[:,2], x)\n",
    "\n"
   ]
  },
  {
   "cell_type": "code",
   "execution_count": null,
   "metadata": {},
   "outputs": [],
   "source": []
  }
 ],
 "metadata": {
  "kernelspec": {
   "display_name": "Python 3",
   "language": "python",
   "name": "python3"
  },
  "language_info": {
   "codemirror_mode": {
    "name": "ipython",
    "version": 3
   },
   "file_extension": ".py",
   "mimetype": "text/x-python",
   "name": "python",
   "nbconvert_exporter": "python",
   "pygments_lexer": "ipython3",
   "version": "3.7.3"
  }
 },
 "nbformat": 4,
 "nbformat_minor": 2
}
