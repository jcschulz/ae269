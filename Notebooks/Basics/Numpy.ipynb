{
 "cells": [
  {
   "cell_type": "markdown",
   "metadata": {},
   "source": [
    "# Why use NumPy\n",
    " \n",
    "NumPy provides data structures that are efficient for numerical programs. To use NumPy we *import* the package, and by convention we then *rename* that package to `np`. It's shorter.\n",
    " \n",
    "To motivate using NumPy, let's compare the time it takes to do some simple mathematical operations with and without NumPy. We will use a `for`-loop, a `list-comprehension`, and a `numpy` array to compute the sum of squares."
   ]
  },
  {
   "cell_type": "code",
   "execution_count": 1,
   "metadata": {},
   "outputs": [],
   "source": [
    "import numpy as np\n",
    "import timeit"
   ]
  },
  {
   "cell_type": "code",
   "execution_count": 2,
   "metadata": {},
   "outputs": [],
   "source": [
    "def forloop(N):\n",
    "    \"\"\"Use a for-loop to compute the sum of N squares.\"\"\"\n",
    "    squares = 0\n",
    "    for i in range(N):\n",
    "        squares += float(i)**2\n",
    "    return squares"
   ]
  },
  {
   "cell_type": "code",
   "execution_count": 3,
   "metadata": {},
   "outputs": [],
   "source": [
    "def listcomprehension(N):\n",
    "    \"\"\"Use list comprehension to compute sum of N squares.\"\"\"\n",
    "    return sum(float(i)**2 for i in range(N))"
   ]
  },
  {
   "cell_type": "code",
   "execution_count": 4,
   "metadata": {},
   "outputs": [],
   "source": [
    "def numpyarray(N):\n",
    "    \"\"\"Compute the sum of N squares using NumPy arrays.\"\"\"\n",
    "    return np.sum(np.arange(0, N)**2)"
   ]
  },
  {
   "cell_type": "code",
   "execution_count": 5,
   "metadata": {},
   "outputs": [
    {
     "name": "stdout",
     "output_type": "stream",
     "text": [
      "Using a for-loop         : 2.09 seconds\n",
      "Using list-comprehension : 2.24 seconds\n",
      "Using NumPy              : 0.10 seconds\n"
     ]
    }
   ],
   "source": [
    "N = 10000000\n",
    "\n",
    "time = timeit.timeit(\"[func(N) for func in (forloop,)]\", globals=globals(), number=1)\n",
    "print(f'Using a for-loop         : {time:.2f} seconds')\n",
    "\n",
    "time = timeit.timeit(\"[func(N) for func in (listcomprehension,)]\", globals=globals(), number=1)\n",
    "print(f'Using list-comprehension : {time:.2f} seconds')\n",
    "\n",
    "time = timeit.timeit(\"[func(N) for func in (numpyarray,)]\", globals=globals(), number=1)\n",
    "print(f'Using NumPy              : {time:.2f} seconds')"
   ]
  }
 ],
 "metadata": {
  "kernelspec": {
   "display_name": "Python 3",
   "language": "python",
   "name": "python3"
  },
  "language_info": {
   "codemirror_mode": {
    "name": "ipython",
    "version": 3
   },
   "file_extension": ".py",
   "mimetype": "text/x-python",
   "name": "python",
   "nbconvert_exporter": "python",
   "pygments_lexer": "ipython3",
   "version": "3.7.6"
  }
 },
 "nbformat": 4,
 "nbformat_minor": 4
}
