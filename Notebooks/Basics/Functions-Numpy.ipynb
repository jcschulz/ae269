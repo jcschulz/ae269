{
 "cells": [
  {
   "cell_type": "markdown",
   "metadata": {},
   "source": [
    " # Defining Functions \n",
    " \n",
    "Matlab allows you to define inline functions, known as function handles or anonymous functions. You may want to do this because you didn't want to use a separate code block to define a single function and it is more clear to be able to \"see\" all of the implementation in a single script. In Matlab, ODE routines often take these function handles as inputs, which makes defining anonymous functions commonplace. In MatLab, to define the function, \n",
    "\n",
    "\\begin{equation}\n",
    "f(x) = \\frac{1}{x^2}\n",
    "\\end{equation}\n",
    "\n",
    "inline would look something like the following:\n",
    "\n",
    "```\n",
    "f = @(x) 1. / x.^2\n",
    "```\n",
    "\n",
    "where the dot operators would make the function *vectorized*. We can do the same thing in Python, but there are several ways we can implement the same behavior. The imperative approach would be to define a function, which in Python looks like the following:"
   ]
  },
  {
   "cell_type": "code",
   "execution_count": 1,
   "metadata": {},
   "outputs": [],
   "source": [
    "def f(x):\n",
    "    \"\"\"Returns the inverse of the square of x.\"\"\"\n",
    "    return 1.0 / x**2"
   ]
  },
  {
   "cell_type": "markdown",
   "metadata": {},
   "source": [
    "We can then use this function in any of the Cells of our notebook, but only after we Run the cell defining the function. Notice how `In [ ]:` in the left margin shows the execution order of the cells. To use our function,"
   ]
  },
  {
   "cell_type": "code",
   "execution_count": 2,
   "metadata": {},
   "outputs": [
    {
     "name": "stdout",
     "output_type": "stream",
     "text": [
      "0.04\n"
     ]
    }
   ],
   "source": [
    "print(f(5))"
   ]
  },
  {
   "cell_type": "markdown",
   "metadata": {},
   "source": [
    "Python provides an excellent set of tools for inspection. The most obvious and useful is `help`. We can use it like this."
   ]
  },
  {
   "cell_type": "code",
   "execution_count": 3,
   "metadata": {},
   "outputs": [
    {
     "name": "stdout",
     "output_type": "stream",
     "text": [
      "Help on function f in module __main__:\n",
      "\n",
      "f(x)\n",
      "    Returns the inverse of the square of x.\n",
      "\n"
     ]
    }
   ],
   "source": [
    "help(f)"
   ]
  },
  {
   "cell_type": "markdown",
   "metadata": {},
   "source": [
    "You can also define a function as a *lambda* expression, just like how anonymous function are defined in Matlab. Anonymous functions, lambda functions, lambda expressions, function literals are all the same thing. They orginate from the concepts of lambda calculus, which defines a framework for encoding any computation in a function. In Python, we use the key word `lambda`"
   ]
  },
  {
   "cell_type": "code",
   "execution_count": 4,
   "metadata": {},
   "outputs": [
    {
     "data": {
      "text/plain": [
       "0.04"
      ]
     },
     "execution_count": 4,
     "metadata": {},
     "output_type": "execute_result"
    }
   ],
   "source": [
    "one_over_xsquared = lambda x: 1 / x**2\n",
    "one_over_xsquared(5)"
   ]
  },
  {
   "cell_type": "markdown",
   "metadata": {},
   "source": [
    "While there can be instances where lambda expressions are useful, there are usually *better*, more Pythonic ways of doing the same thing. Generator expressions and list comprehensions are often more expressive. In fact, the style guide for Python code defined by PEP 8 states the following:\n",
    "\n",
    "\n",
    "PEP 8 : Always use a def statement instead of an assignment statement that binds a lambda expression directly to an    identifier. [Source](https://www.python.org/dev/peps/pep-0008/#programming-recommendations)\n",
    "\n",
    "Consider these motivating examples.\n",
    "\n",
    "- To filter out the even numbers in a sequence"
   ]
  },
  {
   "cell_type": "code",
   "execution_count": 5,
   "metadata": {},
   "outputs": [
    {
     "data": {
      "text/plain": [
       "[0, 2, 4, 6, 8, 10]"
      ]
     },
     "execution_count": 5,
     "metadata": {},
     "output_type": "execute_result"
    }
   ],
   "source": [
    "even = lambda x: x%2 == 0\n",
    "list(filter(even, range(11)))"
   ]
  },
  {
   "cell_type": "code",
   "execution_count": 6,
   "metadata": {},
   "outputs": [
    {
     "data": {
      "text/plain": [
       "[0, 2, 4, 6, 8, 10]"
      ]
     },
     "execution_count": 6,
     "metadata": {},
     "output_type": "execute_result"
    }
   ],
   "source": [
    "[x for x in range(11) if x%2 == 0]"
   ]
  },
  {
   "cell_type": "markdown",
   "metadata": {},
   "source": [
    "- To capitalize the first letter in a list of words"
   ]
  },
  {
   "cell_type": "code",
   "execution_count": 7,
   "metadata": {},
   "outputs": [
    {
     "data": {
      "text/plain": [
       "['Cat', 'Dog', 'Cow']"
      ]
     },
     "execution_count": 7,
     "metadata": {},
     "output_type": "execute_result"
    }
   ],
   "source": [
    "list(map(lambda x: x.capitalize(), ['cat', 'dog', 'cow']))"
   ]
  },
  {
   "cell_type": "code",
   "execution_count": 8,
   "metadata": {},
   "outputs": [
    {
     "data": {
      "text/plain": [
       "['Cat', 'Dog', 'Cow']"
      ]
     },
     "execution_count": 8,
     "metadata": {},
     "output_type": "execute_result"
    }
   ],
   "source": [
    "[x.capitalize() for x in ['cat', 'dog', 'cow']]"
   ]
  },
  {
   "cell_type": "markdown",
   "metadata": {},
   "source": [
    " # Linear Algebra and NumPy"
   ]
  },
  {
   "cell_type": "code",
   "execution_count": 9,
   "metadata": {},
   "outputs": [],
   "source": [
    "import numpy as np"
   ]
  },
  {
   "cell_type": "markdown",
   "metadata": {},
   "source": [
    "Python has many built-in data structures, such as lists, tuples, dictionaries, etc. These data structures, however, are not effecient for computing numerical operations. Instead, we need to use NumPy arrays. They may look similar, but be aware they are very different."
   ]
  },
  {
   "cell_type": "code",
   "execution_count": 10,
   "metadata": {},
   "outputs": [
    {
     "name": "stdout",
     "output_type": "stream",
     "text": [
      "This is a list: [1, 2, 3, 4]. It has type: <class 'list'>\n"
     ]
    }
   ],
   "source": [
    "a_list = [1,2,3,4]\n",
    "print(f'This is a list: {a_list}. It has type: {type(a_list)}')"
   ]
  },
  {
   "cell_type": "code",
   "execution_count": 11,
   "metadata": {},
   "outputs": [
    {
     "name": "stdout",
     "output_type": "stream",
     "text": [
      "This is a numpy array: [1 2 3 4]. It has type: <class 'numpy.ndarray'>\n"
     ]
    }
   ],
   "source": [
    "a = np.array([1,2,3,4])\n",
    "print(f'This is a numpy array: {a}. It has type: {type(a)}')"
   ]
  },
  {
   "cell_type": "code",
   "execution_count": 12,
   "metadata": {},
   "outputs": [
    {
     "name": "stdout",
     "output_type": "stream",
     "text": [
      "The shape of a is: (4,)\n",
      "The shape of b is: (4, 2)\n"
     ]
    }
   ],
   "source": [
    "# We define a matrix  like this\n",
    "b = np.array([[0,1],[1,2],[2,3],[3,4]])\n",
    "\n",
    "# We can print the shape of the Numpy arrays\n",
    "print(f'The shape of a is: {a.shape}')\n",
    "print(f'The shape of b is: {b.shape}')"
   ]
  },
  {
   "cell_type": "markdown",
   "metadata": {},
   "source": [
    "Arrays of different sizes cannot be added or subtracted, and for multiplication we need the shapes of the two arrays to conform to the rules of inner/outer products. There are often times when we would like to work around these requirements. NumPy does this by broadcasting.\n",
    "\n",
    "    The term broadcasting describes how numpy treats arrays with different shapes during arithmetic operations. Subject to certain constraints, the smaller array is “broadcast” across the larger array so that they have compatible shapes.\n",
    "    \n",
    "NumPy does broadcasting in a memory and computationally efficient way. This concept is often used in machine learning libraries like Theano or Tensorflow."
   ]
  },
  {
   "cell_type": "code",
   "execution_count": 13,
   "metadata": {},
   "outputs": [],
   "source": [
    "# Let's define a scalar\n",
    "c = 5"
   ]
  },
  {
   "cell_type": "markdown",
   "metadata": {},
   "source": [
    "What doe we expect to happen, when we add `c` to the array `a`?"
   ]
  },
  {
   "cell_type": "code",
   "execution_count": 14,
   "metadata": {},
   "outputs": [
    {
     "name": "stdout",
     "output_type": "stream",
     "text": [
      "a = [1 2 3 4]\n",
      "c = 5\n",
      "\n",
      "The shape of the sum of the numpy array, \"a\", and the scalar, `c`, is: (4,)\n",
      "a + c = [6 7 8 9]\n"
     ]
    }
   ],
   "source": [
    "print(f'a = {a}')\n",
    "print(f'c = {c}\\n')\n",
    "\n",
    "a_plus_c = a + c\n",
    "print(f'The shape of the sum of the numpy array, \"a\", and the scalar, `c`, is: {a_plus_c.shape}')\n",
    "print(f'a + c = {a_plus_c}')"
   ]
  },
  {
   "cell_type": "markdown",
   "metadata": {},
   "source": [
    "What about the sum of a two-dimensional array and a scalar?"
   ]
  },
  {
   "cell_type": "code",
   "execution_count": 15,
   "metadata": {},
   "outputs": [
    {
     "name": "stdout",
     "output_type": "stream",
     "text": [
      "b = [[0 1]\n",
      " [1 2]\n",
      " [2 3]\n",
      " [3 4]]\n",
      "c = 5\n",
      "\n",
      "b + c = [[5 6]\n",
      " [6 7]\n",
      " [7 8]\n",
      " [8 9]]\n"
     ]
    }
   ],
   "source": [
    "print(f'b = {b}')\n",
    "print(f'c = {c}\\n')\n",
    "\n",
    "print(f'b + c = {b + c}')"
   ]
  },
  {
   "cell_type": "markdown",
   "metadata": {},
   "source": [
    "Broadcasting can only be done if the shape of the arrays are equal or one of the arrays has the dimension size of 1. If the shapes on the two arrays do not match, then Python first \"pads\" the inner dimension, and then stretches that dimension to match the other array."
   ]
  },
  {
   "cell_type": "code",
   "execution_count": 16,
   "metadata": {},
   "outputs": [
    {
     "name": "stdout",
     "output_type": "stream",
     "text": [
      "M is a matrix of shape: (2, 3)\n",
      "a is a vector of shape: (3,)\n",
      "\n",
      "M = [[1. 1. 1.]\n",
      " [1. 1. 1.]]\n",
      "a = [0 1 2]\n"
     ]
    }
   ],
   "source": [
    "M = np.ones((2,3))\n",
    "a = np.arange(3)\n",
    "\n",
    "# Equivalently, we could have used the function `np.linspace` to \n",
    "# create a, which gives you further control over the creation\n",
    "# of the array.\n",
    "#\n",
    "# a = np.linspace(0,2,3, dtype=np.int)\n",
    "#\n",
    "\n",
    "print(f'M is a matrix of shape: {M.shape}')\n",
    "print(f'a is a vector of shape: {a.shape}\\n')\n",
    "\n",
    "print(f'M = {M}')\n",
    "print(f'a = {a}')"
   ]
  },
  {
   "cell_type": "markdown",
   "metadata": {},
   "source": [
    "To sum the matrix and vector, the first step is the pad the inner dimension\n",
    "\n",
    "- `M.shape => (2,3)`\n",
    "- `a.shape => (1,3)`\n",
    "\n",
    "Next, the inner dimension is stretched so that the matrix and vector have the same shape:\n",
    "\n",
    "- `M.shape => (2,3)`\n",
    "- `a.shape => (2,3)`\n",
    "\n",
    "As a result the sum of the matrix, `M`, and the vector, `a` is"
   ]
  },
  {
   "cell_type": "code",
   "execution_count": 17,
   "metadata": {},
   "outputs": [
    {
     "name": "stdout",
     "output_type": "stream",
     "text": [
      "[[1. 2. 3.]\n",
      " [1. 2. 3.]]\n",
      "The shape of M + a is: (2, 3)\n"
     ]
    }
   ],
   "source": [
    "print(M + a)\n",
    "print(f'The shape of M + a is: {(M+a).shape}')"
   ]
  },
  {
   "cell_type": "code",
   "execution_count": 18,
   "metadata": {},
   "outputs": [
    {
     "name": "stdout",
     "output_type": "stream",
     "text": [
      "(3,)\n",
      "[0 1 2]\n"
     ]
    }
   ],
   "source": [
    "print(a.shape)\n",
    "print(a)"
   ]
  },
  {
   "cell_type": "markdown",
   "metadata": {},
   "source": [
    "Think about what happens in the following example. Let `M` be a column vector.\n",
    "\n",
    "\\begin{equation}\n",
    "M = \\begin{bmatrix} 0 \\\\ 1 \\\\ 2 \\end{bmatrix}\n",
    "\\end{equation}\n",
    "\n",
    "and let `a` be a row vector\n",
    "\n",
    "\\begin{equation}\n",
    "a = \\begin{bmatrix} 0 & 1 & 2 \\end{bmatrix}\n",
    "\\end{equation}\n",
    "\n",
    "What is the sum of `M` and `a`?"
   ]
  },
  {
   "cell_type": "code",
   "execution_count": 19,
   "metadata": {},
   "outputs": [
    {
     "name": "stdout",
     "output_type": "stream",
     "text": [
      "M is a matrix of shape: (3, 1)\n",
      "a is a vector of shape: (3,)\n",
      "\n",
      "M = [[0]\n",
      " [1]\n",
      " [2]]\n",
      "a = [0 1 2]\n"
     ]
    }
   ],
   "source": [
    "M = np.arange(3).reshape((3, 1))\n",
    "a = np.arange(3)\n",
    "\n",
    "print(f'M is a matrix of shape: {M.shape}')\n",
    "print(f'a is a vector of shape: {a.shape}\\n')\n",
    "\n",
    "print(f'M = {M}')\n",
    "print(f'a = {a}')"
   ]
  },
  {
   "cell_type": "code",
   "execution_count": 20,
   "metadata": {},
   "outputs": [
    {
     "name": "stdout",
     "output_type": "stream",
     "text": [
      "The shape is (3, 3) with the result: \n",
      " [[0 1 2]\n",
      " [1 2 3]\n",
      " [2 3 4]]\n"
     ]
    }
   ],
   "source": [
    "M_plus_a = M + a\n",
    "\n",
    "print(f'The shape is {M_plus_a.shape} with the result: \\n {M_plus_a}')"
   ]
  }
 ],
 "metadata": {
  "kernelspec": {
   "display_name": "Python 3",
   "language": "python",
   "name": "python3"
  },
  "language_info": {
   "codemirror_mode": {
    "name": "ipython",
    "version": 3
   },
   "file_extension": ".py",
   "mimetype": "text/x-python",
   "name": "python",
   "nbconvert_exporter": "python",
   "pygments_lexer": "ipython3",
   "version": "3.7.6"
  }
 },
 "nbformat": 4,
 "nbformat_minor": 2
}
