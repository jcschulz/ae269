{
 "cells": [
  {
   "cell_type": "markdown",
   "metadata": {},
   "source": [
    "# Python for Scientific Computing\n",
    "\n",
    "Computational fluid dynamics (CFD) is the application of numerical methods to seek solutions to problems involving fluid flows. By extension, computer programing is an inseparable and integral component to CFD. While this course is **not** about computer programming, some basic proficiency in computer programming is expected. In this course, assignments will require relatively small and simple computer programs, so any programming language is suitable. However, since in addition to learning about CFD, I also hope you will learn more about scientific computing, I encourage using programming languages regularly used in CFD (Python, C++, Fortran, etc.). A secondary motivation of this course is preparing you for the high liklihood that as a scientist/engineer, programming will be an integral part to your career. In aerospace, this is particularly true because:\n",
    "\n",
    "- Commercial products like ANSYS and COMSOL will not always provide out-of-the box solutions for your problem.\n",
    "\n",
    "\n",
    "- The amount of data we analyze has increased with computational power, and this is true for both computational scientists as well as experimentalists. \n",
    "    \n",
    "In both of these scenarios, you may need to add some code to an existing software or edit a script here or there in order to get it to do what you need it to do. Relay on tools when the solve your problems and take advantage of products created by domain experts, but also be **ready** to become the expert yourself.\n",
    "\n",
    "There are three more equally important reason, but maybe less motivating reasons, to learn programming in this class:\n",
    "\n",
    "- The *problems of interest* in science and engineering are at the same time becoming more multi-disciplinary and more specialized. Our engineering teams are larger. They span time-zones and disciplines. Mathematics and computer programs are the *languages* we use to converse with one another. You should be able to *read* computer code as easily as you read mathematical formulae.\n",
    "\n",
    "\n",
    "- Programming is understanding. Even assuming ANSYS or COMSOL or some other software package does solve your problem, you **should** have some familiarity with what goes on underneath-the-hood. \n",
    "    \n",
    "\n",
    "## Why Python?\n",
    "\n",
    "If this were a computer science class, we would focus on the *efficiency* and the *algorithms* we used in our code. Luckily, the algorithms and numerical methods we will be discussing in this class have already been discovered, and many decades have been spent analyzing and understanding their efficiency. Yet, it is important to grasp that **these \"computer science\" questions are the other side of the same coin as the \"CFD\" questions**. \n",
    "\n",
    "We will use Python in this class as way to demonstrate many of the principles of numerical modeling that underpin computational analysis. So, why use Python? \n",
    "\n",
    "- Python is free and open-source. Communities are important, and the Python community is large and is multi-disciplined. As for the scientific community, I would argue Python is (or will become) one of fundamental programming languages adopted and used by the scientific community, much like Fortran 40-50 years ago.\n",
    "\n",
    "   * Paul Romer, [Jupyter, Mathematica, and the Future of the Research Paper](https://paulromer.net/jupyter-mathematica-and-the-future-of-the-research-paper/)\n",
    "\n",
    "   * [The Scientific Paper is Obsolete](https://www.theatlantic.com/science/archive/2018/04/the-scientific-paper-is-obsolete/556676/) by James Somer, published in *The Atlantic*\n",
    "\n",
    "\n",
    "- Hardware and software research and development is closely intertwined with Python.\n",
    "\n",
    "   * Data visualization software, in particular, [Paraview](https://www.paraview.org), leverages Python for scripting and automation\n",
    "   * Machine learning packages such as [TensorFlow](https://www.tensorflow.org) and [pyTorch](https://pytorch.org) interoperate with both CPU and GPU hardware\n",
    "\n",
    "\n",
    "   \n",
    "- Python has a rich programming language (supports both class and function definitions) and was created with the number one goal of being easy to read and understand. Additionally, Python supports \n",
    "\n",
    "   * Namespaces - Data is defined locally and can be encapsulated.\n",
    "   * Interoperability with other programming languages, i.e., C, C++, Fortran.\n",
    "   \n",
    "- Some articles:\n",
    "\n",
    "   * [Matlab / Python: The differences](https://medium.com/gradbunker/matlab-vs-python-for-scientific-computing-a-beginners-guide-a27f4dcbbc81)\n",
    "   \n",
    "   * [Why Python is Slow](https://jakevdp.github.io/blog/2014/05/09/why-python-is-slow/) and other blog posts by Jake VanderPlas. \n",
    "   \n",
    "   * [Python3 Computations in Science and Engineering](https://kitchingroup.cheme.cmu.edu/pycse/pycse.html)\n",
    "   "
   ]
  },
  {
   "cell_type": "markdown",
   "metadata": {},
   "source": [
    "## Using / Learning Python\n",
    "\n",
    "The best way to learn a new programming language (if Python is new to you) is to just start writing computer programs. It sounds simple, right? After awhile, writing correct code will become second nature. For this course, you don't need to be an expert programmer. Everything we will do will be rather straight-forward, but I encourage you to delve into the details when the opprotunity arises. Keep the following guidelines in mind.\n",
    "\n",
    "### Make frequent use of PEP 8\n",
    "\n",
    "Python provides guidelines for how to write consistent code. You can read the full PEP-8 guidelines [here](https://www.python.org/dev/peps/pep-0008/), but the key insights is that code is read more often than written, and this is where consistency matters.\n",
    "\n",
    "For example, consider the following code:\n",
    "\n",
    "```\n",
    "# Wrong:\n",
    "# operators sit far away from their operands\n",
    "income = (gross_wages +\n",
    "          taxable_interest +\n",
    "          (dividends - qualified_dividends) -\n",
    "          ira_deduction -\n",
    "          student_loan_interest)\n",
    "          \n",
    "# Correct:\n",
    "# easy to match operators with operands\n",
    "income = (gross_wages\n",
    "          + taxable_interest\n",
    "          + (dividends - qualified_dividends)\n",
    "          - ira_deduction\n",
    "          - student_loan_interest)   \n",
    "```\n",
    "\n",
    "### Learn by Doing\n",
    "\n",
    "Learning a programming language can be a bit daunting, especially if it is your first langauge. Just as with spoken languages, though, the best way to learn through immersion.    \n",
    "- Start simple. If you have small homework set you completed using Matlab, you could start by transcribing it into Python. These type of transcription excercises are a great way to learn a new language. \n",
    "\n",
    "\n",
    "- Search the web for what you want to do? For example, searching for \"create a line-plot in Python\" will give you a plethora of examples on how to plot in Python.\n",
    "\n",
    "\n",
    "- Start with data visualization. Besides being extremely useful, it is easy to see what works and what doesn't work.\n",
    "\n",
    "\n",
    "- Forget the details. You can learn them later.\n",
    "\n",
    "\n",
    "- Good programmers borrow; great programmers steal. (Joking aside: *Always give credit, check the license, and know when it is okay.*) \n",
    "\n",
    "\n",
    "### Suggested Resrouces (Available via O'reilly Learning)\n",
    "\n",
    "- *Python Data Science Handbook* by Jake VanderPlas\n",
    "\n",
    "   * Or as a free Jupyter notebooks: https://github.com/jakevdp/PythonDataScienceHandbook\n",
    "  \n",
    "\n",
    "\n",
    "- *Numerical Python : Scientific Computing and Data Science Applications with Numpy, SciPy and Matplotlib* by Robert Johansson"
   ]
  },
  {
   "cell_type": "markdown",
   "metadata": {},
   "source": [
    "# Basics"
   ]
  },
  {
   "cell_type": "code",
   "execution_count": 1,
   "metadata": {},
   "outputs": [],
   "source": [
    "# An assignment statement associates a variable name on the left of \n",
    "# the equal sign with the value of an expression calculated from the \n",
    "# right of the equal sign\n",
    "\n",
    "# Variable \"d\" is assigned the value of 5  \n",
    "d = 5\n",
    "\n",
    "# Variable \"a\" is assigned the value of 4\n",
    "a = 4\n",
    "\n",
    "# Variable \"b\" is assigned the value of \"a + d\"\n",
    "b = a + d"
   ]
  },
  {
   "cell_type": "code",
   "execution_count": 2,
   "metadata": {},
   "outputs": [],
   "source": [
    "# There are different data types (integers, floats, strings, etc.)\n",
    "\n",
    "# \"c\" is a float\n",
    "c = 4.5\n",
    "\n",
    "# \"moon\" is a string\n",
    "moon = \"Luna\""
   ]
  },
  {
   "cell_type": "code",
   "execution_count": 3,
   "metadata": {},
   "outputs": [
    {
     "name": "stdout",
     "output_type": "stream",
     "text": [
      "4\n"
     ]
    }
   ],
   "source": [
    "# We can print the values of variables\n",
    "print(a)"
   ]
  },
  {
   "cell_type": "code",
   "execution_count": 4,
   "metadata": {},
   "outputs": [
    {
     "name": "stdout",
     "output_type": "stream",
     "text": [
      "c + d equals 9.5\n"
     ]
    }
   ],
   "source": [
    "# This is a f-string, and we can use it to insert executable code into \n",
    "# a string. The code inside the brackets {...} is executed and the result\n",
    "# is substitued into the string.\n",
    "#\n",
    "print(f'c + d equals {d+c}')"
   ]
  },
  {
   "cell_type": "code",
   "execution_count": 5,
   "metadata": {},
   "outputs": [
    {
     "name": "stdout",
     "output_type": "stream",
     "text": [
      "22.5\n"
     ]
    }
   ],
   "source": [
    "# Python supports various types of control flow\n",
    "#\n",
    "if c + d < 10:\n",
    "    e = c * d\n",
    "else:\n",
    "    e = c**2 # Not c^2\n",
    "print(e)"
   ]
  },
  {
   "cell_type": "code",
   "execution_count": 6,
   "metadata": {},
   "outputs": [
    {
     "data": {
      "text/plain": [
       "float"
      ]
     },
     "execution_count": 6,
     "metadata": {},
     "output_type": "execute_result"
    }
   ],
   "source": [
    "# Python has many \"introspective\" functions.\n",
    "\n",
    "# Inspect the type of c\n",
    "type(c)"
   ]
  },
  {
   "cell_type": "code",
   "execution_count": 7,
   "metadata": {},
   "outputs": [
    {
     "data": {
      "text/plain": [
       "int"
      ]
     },
     "execution_count": 7,
     "metadata": {},
     "output_type": "execute_result"
    }
   ],
   "source": [
    "# Change c to an integer\n",
    "c = 1\n",
    "type(c)"
   ]
  },
  {
   "cell_type": "code",
   "execution_count": 8,
   "metadata": {},
   "outputs": [
    {
     "name": "stdout",
     "output_type": "stream",
     "text": [
      "This is a string\n"
     ]
    },
    {
     "data": {
      "text/plain": [
       "str"
      ]
     },
     "execution_count": 8,
     "metadata": {},
     "output_type": "execute_result"
    }
   ],
   "source": [
    "d = \"This is a string\"\n",
    "print(d)\n",
    "type(d)"
   ]
  },
  {
   "cell_type": "markdown",
   "metadata": {},
   "source": [
    "## The Zen of Python\n",
    "\n",
    "We can organize our code into modules (individual Python files) and packages (a collection of Python files). Definitions from a module or a package can be *imported* into other modules. You will see a lot of this."
   ]
  },
  {
   "cell_type": "code",
   "execution_count": 9,
   "metadata": {},
   "outputs": [
    {
     "name": "stdout",
     "output_type": "stream",
     "text": [
      "The Zen of Python, by Tim Peters\n",
      "\n",
      "Beautiful is better than ugly.\n",
      "Explicit is better than implicit.\n",
      "Simple is better than complex.\n",
      "Complex is better than complicated.\n",
      "Flat is better than nested.\n",
      "Sparse is better than dense.\n",
      "Readability counts.\n",
      "Special cases aren't special enough to break the rules.\n",
      "Although practicality beats purity.\n",
      "Errors should never pass silently.\n",
      "Unless explicitly silenced.\n",
      "In the face of ambiguity, refuse the temptation to guess.\n",
      "There should be one-- and preferably only one --obvious way to do it.\n",
      "Although that way may not be obvious at first unless you're Dutch.\n",
      "Now is better than never.\n",
      "Although never is often better than *right* now.\n",
      "If the implementation is hard to explain, it's a bad idea.\n",
      "If the implementation is easy to explain, it may be a good idea.\n",
      "Namespaces are one honking great idea -- let's do more of those!\n"
     ]
    }
   ],
   "source": [
    "import this"
   ]
  }
 ],
 "metadata": {
  "kernelspec": {
   "display_name": "Python 3",
   "language": "python",
   "name": "python3"
  },
  "language_info": {
   "codemirror_mode": {
    "name": "ipython",
    "version": 3
   },
   "file_extension": ".py",
   "mimetype": "text/x-python",
   "name": "python",
   "nbconvert_exporter": "python",
   "pygments_lexer": "ipython3",
   "version": "3.7.6"
  }
 },
 "nbformat": 4,
 "nbformat_minor": 4
}
