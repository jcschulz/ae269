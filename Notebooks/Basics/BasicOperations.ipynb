{
 "cells": [
  {
   "cell_type": "markdown",
   "metadata": {},
   "source": [
    "# Basic Operations\n",
    "\n",
    "This notebook is by no means a substitute for any of the excellent educational resources available online, which do a far better job of introducing the fundamentals of Python. The goal is not to cover even scratch the surface of what Python is capable of doing, but to merely highlight some aspects of Python that you will see frequently in this class.\n",
    "\n",
    "To summarize, the objectives of this notebook are to:\n",
    "\n",
    "1. Explain some common code snippetts frequently used in numerical programs.\n",
    "\n",
    "2. Some pitfalls, tips, and tricks when working with and debugging numerical programs."
   ]
  },
  {
   "cell_type": "markdown",
   "metadata": {},
   "source": [
    " ## Lists\n",
    " \n",
    "Lists are a very common data structure, and they are data structures do exactly like what they sound like they do - store separate data entries in a list. For instance, the following is a list of strings,\n",
    "\n",
    "```\n",
    "my_todo_list = [\"do homework\", \"read\", \"clean the kitchen\"]\n",
    "```\n",
    "\n",
    "We can also store a list of numbers. For instance, a list of homework grades, \n",
    "\n",
    "```\n",
    "my_grades = [90, 80, 100]\n",
    "```\n",
    "\n",
    "However, for numerical programs we will only occassionally use the list data structure. They are convenient and useful, but they are not the most efficient data structures for our numerical calculations. Instead we will use `NumPy` arrays, which will be introduced later. \n",
    "\n",
    "First, though, a brief introduction to lists and list comprehensions."
   ]
  },
  {
   "cell_type": "code",
   "execution_count": 1,
   "metadata": {},
   "outputs": [
    {
     "name": "stdout",
     "output_type": "stream",
     "text": [
      "A list of my homework grades: [90, 80, 100]\n"
     ]
    }
   ],
   "source": [
    "my_grades = [90, 80, 100]\n",
    "print(f'A list of my homework grades: {my_grades}')"
   ]
  },
  {
   "cell_type": "code",
   "execution_count": 2,
   "metadata": {},
   "outputs": [
    {
     "name": "stdout",
     "output_type": "stream",
     "text": [
      "A list of my homework grades: [90, 80, 100, 75]\n"
     ]
    }
   ],
   "source": [
    "# Add a new grade to the list\n",
    "my_grades.append(75)\n",
    "print(f'A list of my homework grades: {my_grades}')"
   ]
  },
  {
   "cell_type": "code",
   "execution_count": 3,
   "metadata": {},
   "outputs": [
    {
     "name": "stdout",
     "output_type": "stream",
     "text": [
      "Total number of grades: 4\n"
     ]
    }
   ],
   "source": [
    "print(f'Total number of grades: {len(my_grades)}')"
   ]
  },
  {
   "cell_type": "code",
   "execution_count": 4,
   "metadata": {},
   "outputs": [
    {
     "name": "stdout",
     "output_type": "stream",
     "text": [
      "A useful way to create a list is to write [1] * 10 = [1, 1, 1, 1, 1, 1, 1, 1, 1, 1]\n"
     ]
    }
   ],
   "source": [
    "# Initialize a list of ones\n",
    "numbers = [1] * 10\n",
    "print(f'A useful way to create a list is to write [1] * 10 = {numbers}')"
   ]
  },
  {
   "cell_type": "code",
   "execution_count": 5,
   "metadata": {},
   "outputs": [
    {
     "name": "stdout",
     "output_type": "stream",
     "text": [
      "[4, 1, 1, 1, 8, 1, 1, 1, 1, 1]\n",
      "[4, 1, 1, 1, 8, 1, 1, 1, 1, 9]\n"
     ]
    }
   ],
   "source": [
    "# Modify the first and fifth entries\n",
    "numbers[0] = 4\n",
    "numbers[4] = 8\n",
    "print(numbers)\n",
    "\n",
    "# Modify the last element - negative indices start at the end\n",
    "numbers[-1] = 9\n",
    "print(numbers)"
   ]
  },
  {
   "cell_type": "code",
   "execution_count": 6,
   "metadata": {},
   "outputs": [
    {
     "name": "stdout",
     "output_type": "stream",
     "text": [
      "Size of list before pop() : 10\n",
      "Last element is: 9\n",
      "Size of list before pop() : 9\n"
     ]
    }
   ],
   "source": [
    "# Remove the last element\n",
    "print(f'Size of list before pop() : {len(numbers)}')\n",
    "last = numbers.pop()\n",
    "print(f'Last element is: {last}')\n",
    "print(f'Size of list before pop() : {len(numbers)}')"
   ]
  },
  {
   "cell_type": "markdown",
   "metadata": {},
   "source": [
    "## Loops\n",
    "\n",
    "Often we will want to iterate or loop over a list. We do this using a `for` loop. There are a couple different ways to write a loop. Notice the difference? "
   ]
  },
  {
   "cell_type": "code",
   "execution_count": 7,
   "metadata": {},
   "outputs": [
    {
     "name": "stdout",
     "output_type": "stream",
     "text": [
      "90\n",
      "80\n",
      "100\n",
      "75\n"
     ]
    }
   ],
   "source": [
    "for grade in my_grades:\n",
    "    print(grade)"
   ]
  },
  {
   "cell_type": "code",
   "execution_count": 8,
   "metadata": {},
   "outputs": [
    {
     "name": "stdout",
     "output_type": "stream",
     "text": [
      "Homework #0 Grade: 90\n",
      "Homework #1 Grade: 80\n",
      "Homework #2 Grade: 100\n",
      "Homework #3 Grade: 75\n"
     ]
    }
   ],
   "source": [
    "for i in range(len(my_grades)):\n",
    "    print(f'Homework #{i} Grade: {my_grades[i]}')"
   ]
  },
  {
   "cell_type": "code",
   "execution_count": 9,
   "metadata": {},
   "outputs": [
    {
     "name": "stdout",
     "output_type": "stream",
     "text": [
      "Average homework grade: 86.25\n"
     ]
    }
   ],
   "source": [
    "# Compute the average of homework grades\n",
    "avg_grade = 0\n",
    "for grade in my_grades:\n",
    "    avg_grade += grade\n",
    "print(f'Average homework grade: {avg_grade / len(my_grades)}')"
   ]
  },
  {
   "cell_type": "code",
   "execution_count": 10,
   "metadata": {},
   "outputs": [
    {
     "name": "stdout",
     "output_type": "stream",
     "text": [
      "Average homework grade: 86.25\n"
     ]
    }
   ],
   "source": [
    "# Or as a one-liner\n",
    "print(f'Average homework grade: {sum(my_grades) / len(my_grades)}')"
   ]
  },
  {
   "cell_type": "code",
   "execution_count": 11,
   "metadata": {},
   "outputs": [
    {
     "name": "stdout",
     "output_type": "stream",
     "text": [
      "Find the even numbers from the list: [4, 1, 1, 1, 8, 1, 1, 1, 1]\n",
      "Even numbers: [4, 8]\n"
     ]
    }
   ],
   "source": [
    "# To build a list of evens from \"numbers\"\n",
    "\n",
    "print(f'Find the even numbers from the list: {numbers}')\n",
    "evens = []\n",
    "for num in numbers:\n",
    "    if num % 2 == 0:\n",
    "        evens.append(num)\n",
    "print(f'Even numbers: {evens}')"
   ]
  },
  {
   "cell_type": "markdown",
   "metadata": {},
   "source": [
    "## List Comprehensions and Generators\n",
    "\n",
    "List comprehensions are powerful, compact expressions that allow us to more elegantly write code that effectively does the same thing as a `for` loop, but much more concisely and efficiently. The have the following format\n",
    "\n",
    "```(<expression> for <var> in <iterable> if <condition>)```\n"
   ]
  },
  {
   "cell_type": "code",
   "execution_count": 12,
   "metadata": {},
   "outputs": [
    {
     "name": "stdout",
     "output_type": "stream",
     "text": [
      "Create a list of numbers: [0, 1, 2, 3, 4, 5, 6, 7, 8, 9, 10]\n"
     ]
    }
   ],
   "source": [
    "# Create a list of numbers from 0 to 11\n",
    "numbers = [x for x in range(11)]\n",
    "print(f'Create a list of numbers: {numbers}')"
   ]
  },
  {
   "cell_type": "code",
   "execution_count": 13,
   "metadata": {},
   "outputs": [
    {
     "name": "stdout",
     "output_type": "stream",
     "text": [
      "Create a list of odd numbers: [1, 3, 5, 7, 9]\n"
     ]
    }
   ],
   "source": [
    "odds = [x for x in range(11) if x % 2 != 0]\n",
    "print(f'Create a list of odd numbers: {odds}')"
   ]
  },
  {
   "cell_type": "code",
   "execution_count": 14,
   "metadata": {},
   "outputs": [
    {
     "name": "stdout",
     "output_type": "stream",
     "text": [
      "A list of squares: [0, 1, 4, 9, 16, 25, 36, 49, 64, 81]\n"
     ]
    }
   ],
   "source": [
    "squares = [x**2 for x in range(10)]\n",
    "print(f'A list of squares: {squares}')"
   ]
  },
  {
   "cell_type": "code",
   "execution_count": 15,
   "metadata": {},
   "outputs": [
    {
     "name": "stdout",
     "output_type": "stream",
     "text": [
      "<generator object <genexpr> at 0x7fd4914db3d0>\n"
     ]
    }
   ],
   "source": [
    "# We can also crete generators, which encode instructions for how to generate data\n",
    "generate_squares = (x**2 for x in range(10))\n",
    "\n",
    "# Notice what gets printed\n",
    "print(generate_squares)"
   ]
  },
  {
   "cell_type": "code",
   "execution_count": 16,
   "metadata": {},
   "outputs": [
    {
     "name": "stdout",
     "output_type": "stream",
     "text": [
      "285\n",
      "<generator object <genexpr> at 0x7fd4914db3d0>\n",
      "0\n"
     ]
    }
   ],
   "source": [
    "# Generators get \"consumed\"\n",
    "sum_of_squares = sum(generate_squares)\n",
    "print(sum_of_squares)\n",
    "\n",
    "# \"generate_squares\" still has the same address, but it has been consumed\n",
    "# and its sum is zero.\n",
    "print(generate_squares)\n",
    "print(sum(generate_squares))"
   ]
  },
  {
   "cell_type": "code",
   "execution_count": 17,
   "metadata": {},
   "outputs": [
    {
     "name": "stdout",
     "output_type": "stream",
     "text": [
      "0\n",
      "1\n"
     ]
    }
   ],
   "source": [
    "get_a_number = (x for x in range(100))\n",
    "\n",
    "# Get numbers from the generator\n",
    "a = next(get_a_number)\n",
    "print(a)\n",
    "b = next(get_a_number)\n",
    "print(b)"
   ]
  }
 ],
 "metadata": {
  "kernelspec": {
   "display_name": "Python 3",
   "language": "python",
   "name": "python3"
  },
  "language_info": {
   "codemirror_mode": {
    "name": "ipython",
    "version": 3
   },
   "file_extension": ".py",
   "mimetype": "text/x-python",
   "name": "python",
   "nbconvert_exporter": "python",
   "pygments_lexer": "ipython3",
   "version": "3.7.6"
  }
 },
 "nbformat": 4,
 "nbformat_minor": 4
}
