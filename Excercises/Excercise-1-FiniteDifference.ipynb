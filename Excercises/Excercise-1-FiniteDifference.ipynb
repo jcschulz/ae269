{
 "cells": [
  {
   "cell_type": "markdown",
   "metadata": {},
   "source": [
    "# Excercises : Finite-difference basics\n",
    "\n"
   ]
  },
  {
   "cell_type": "code",
   "execution_count": null,
   "metadata": {},
   "outputs": [],
   "source": [
    "%matplotlib notebook   # Magic function that tells MatplotLib to generate plots in a notebook\n",
    "\n",
    "# Use NumPy arrays instead of Python lists\n",
    "import numpy as np\n",
    "\n",
    "# We will want to plot our results, so let's import MatplotLib\n",
    "import matplotlib.pyplot as plt\n",
    "\n",
    "# Seaborn modifies the MatplotLib defaults\n",
    "import seaborn as sns\n",
    "sns.set()"
   ]
  },
  {
   "cell_type": "markdown",
   "metadata": {},
   "source": [
    "## Create a numpy array representing a one-dimensional mesh"
   ]
  },
  {
   "cell_type": "code",
   "execution_count": null,
   "metadata": {},
   "outputs": [],
   "source": [
    "# Create a uniform mesh for the domain [-1,1]\n",
    "# x = "
   ]
  },
  {
   "cell_type": "markdown",
   "metadata": {},
   "source": [
    "## Discretize a function on the mesh\n",
    "\n",
    "Let's start with a very simple function\n",
    "\n",
    "\\begin{equation}\n",
    "f(x) = x\n",
    "\\end{equation}\n",
    "\n",
    "We know the function, $f(x)$, is continuous over the entire domain, $(-\\infty, \\infty)$. Using a numpy array, how do we define this function on the discrete mesh we created in the previous step?"
   ]
  },
  {
   "cell_type": "code",
   "execution_count": null,
   "metadata": {},
   "outputs": [],
   "source": [
    "#f ="
   ]
  },
  {
   "cell_type": "code",
   "execution_count": null,
   "metadata": {},
   "outputs": [],
   "source": [
    "# Let's plot the function\n",
    "fig, ax = plt.subplots(nrows=1, ncols=1, figsize=(9, 6))\n",
    "\n",
    "line = ax.plot(f, x, lw=2, color='b', label=r'$f(x) = x')\n",
    "\n",
    "ax.set_xlim((0.0, 1.0))\n",
    "\n",
    "ax.set_title(r'Plot of the function $f(x)$', fontsize=15) \n",
    "ax.legend(loc=4, fontsize=15)\n",
    "ax.set_xlabel(r'$x$', fontsize=15.0)\n",
    "ax.set_ylabel(r'$f(x)$', fontsize=15.0)    "
   ]
  },
  {
   "cell_type": "markdown",
   "metadata": {},
   "source": [
    "## Change the number of points in the mesh\n",
    "\n",
    "Often we will want to study the behavior of a numerical method we different levels of refinement. For a uniform mesh, refinement simply means increasing the total number of discrete points (nodes) used to define the mesh of the computational domain. Good practice is to use three levels of successive refinement. We will define a base number of mesh points, $N$, and the a **coarse** mesh with half the number of points, and a **fine** mesh with double the number of points.\n",
    "\n",
    "To simplify the notation, let's refer to these as $N_0$, $N_1$, and $N_2$\n",
    "\n",
    "\\begin{equation}\n",
    "N_\\textrm{coarse} = N_0 = \\frac{N}{2}\n",
    "\\end{equation}\n",
    "\n",
    "\\begin{equation}\n",
    "N_\\textrm{base} = N_1 = N\n",
    "\\end{equation}\n",
    "\n",
    "\\begin{equation}\n",
    "N_\\textrm{fine} = N_2 = 2 N\n",
    "\\end{equation}\n",
    "\n",
    "\n"
   ]
  },
  {
   "cell_type": "code",
   "execution_count": null,
   "metadata": {},
   "outputs": [],
   "source": [
    "# Create three uniform meshs for the domain [-1,1]\n",
    "#   - x_coarse = x_0\n",
    "#   - x_base = x_1\n",
    "#   - x_fine = x_2"
   ]
  },
  {
   "cell_type": "markdown",
   "metadata": {},
   "source": [
    "## Discretize a function on each mesh\n",
    "\n",
    "Let's use a slightly more complex function, \n",
    "\n",
    "\\begin{equation}\n",
    "f(x) = x^2\n",
    "\\end{equation}\n",
    "\n",
    "Recall we are interested in how the derivatives of a function are computed on a discrete domain (mesh) using a finite-difference approximation. Since the derivative of $f(x) = x^2$, is easy to compute analytically, $f^{\\prime}(x) = x$, we can use it to confirm wether or not our finite-difference approximation is qualitiatively correct. "
   ]
  },
  {
   "cell_type": "code",
   "execution_count": null,
   "metadata": {},
   "outputs": [],
   "source": [
    "# f_0 =\n",
    "# f_1 =\n",
    "# f_2 ="
   ]
  },
  {
   "cell_type": "markdown",
   "metadata": {},
   "source": [
    "## Compute the finite-difference approximation of the first derivative\n",
    "\n",
    "Compute $f^{\\prime}(x)$ at each mesh point using the following finite-difference approximation for the first derivative:\n",
    "\n",
    "\\begin{equation}\n",
    "\\frac{\\textrm{d} f}{\\textrm{d} x} \\approx \\frac{ f(x_i + \\Delta x) - f(x_i) }{\\Delta x} = \\frac{f_{i+1} - f_i }{\\Delta x}\n",
    "\\end{equation}\n",
    "\n",
    "To analyze how our approximations might change for different number of mesh points, compute the first derivative for each of the different size meshes."
   ]
  },
  {
   "cell_type": "code",
   "execution_count": null,
   "metadata": {},
   "outputs": [],
   "source": [
    "# dfdx_1 =\n",
    "# dfdx_2 = \n",
    "# dfdx_3 ="
   ]
  },
  {
   "cell_type": "markdown",
   "metadata": {},
   "source": [
    "## How do we know our finite-difference approximations are accurate?"
   ]
  },
  {
   "cell_type": "code",
   "execution_count": null,
   "metadata": {},
   "outputs": [],
   "source": []
  },
  {
   "cell_type": "markdown",
   "metadata": {},
   "source": [
    "## Convert the finite-difference approximation into a matrix operator \n",
    "\n",
    "As discussed during lecture, we can write the finite-difference approximations at each point in the mesh as a matrix operator, $\\mathbf{A}$. Consider the 1-D, advection equation, \n",
    "\n",
    "\\begin{equation}\n",
    "\\frac{\\partial u}{\\partial t} + a \\frac{\\partial u}{\\partial x} = 0\n",
    "\\end{equation}\n",
    "\n",
    "Using the method of lines, we can write a numerical approximation to the 1-D, advection equation like\n",
    "\n",
    "\\begin{equation}\n",
    "\\frac{\\textrm{d} \\mathbf{u} }{\\textrm{d} t} = \\mathbf{A} \\mathbf{u}\n",
    "\\end{equation}\n",
    "\n",
    "where the vector $\\mathbf{u} = [u(x_0,t), u(x_1,t), \\dots, u(x_N,t)]$ where the matrix $\\mathbf{A}$ is \n",
    "\n",
    "\\begin{equation}\n",
    "\\mathbf{A} = -a \\mathcal{D}\n",
    "\\end{equation}\n",
    "\n",
    "where $\\mathcal{D}$ is the difference-operator, sometimes it is written as $\\delta_x$ or as $\\mathcal{D}_x$, where the subscript means the difference-operator is an approximation of the first-derivative with respect to $x$, $\\delta_{xx}$ would be an approximationof the second-derivative with respect to $x$.\n",
    "\n",
    "Using the approximation of the first derivative, \n",
    "\n",
    "\\begin{equation}\n",
    "\\frac{\\textrm{d} u}{\\textrm{d} x} \\approx \\frac{ u(x_i + \\Delta x) - u(x_i) }{\\Delta x} = \\frac{u_{i+1} - u_i }{\\Delta x}\n",
    "\\end{equation}\n",
    "\n",
    "what is the matrix operator for the one-dimensional, advection equation. Assume the initial condition for $u(x,t)$ is given as\n",
    "\n",
    "\\begin{equation}\n",
    "u(x,0) = f(x)\n",
    "\\end{equation}\n",
    "\n",
    "where $f(x) = x^2$ \n"
   ]
  },
  {
   "cell_type": "code",
   "execution_count": null,
   "metadata": {},
   "outputs": [],
   "source": [
    "# what is Dx? "
   ]
  },
  {
   "cell_type": "markdown",
   "metadata": {},
   "source": [
    "## Compute the RHS using the matrix operator\n",
    "\n",
    "Compute $\\mathbf{A}\\mathbf{u}$. There are a few ways to do this, and which way is best really depends on the scale of the problem we are trying to solve. Recall that $\\mathbf{A}$ is a sparse matrix with most of the elements in the matrix being zero. Is there some pattern to the non-zero entries of $\\mathbf{A}$ we can use to design a more compact way to represesnting the matrix? What about the fact that for periodic boundaries, the matrix $\\mathbf{A}$ is circulant?\n",
    "\n",
    "The answer to all of those questions is yes. There are ways to effeciently represent the sparse matrix $\\mathbf{A}$, and yes we should do this (if only because it real-world applications you must, and because it is good practice to write memory efficient programs). \n",
    "\n",
    "**But**, let's start with a naive implementation. Use $N=4$.\n",
    "\n",
    "How do you know it is correct?"
   ]
  },
  {
   "cell_type": "code",
   "execution_count": null,
   "metadata": {},
   "outputs": [],
   "source": [
    "# A = -a D\n",
    "# u = [u0, u1, u2, ..., uN]\n",
    "\n",
    "# Au = -a * dudx"
   ]
  },
  {
   "cell_type": "markdown",
   "metadata": {},
   "source": [
    "## Can A be represented as a banded-matrix?\n",
    "\n",
    "A banded matrix is a matrix whose only non-zero elements are along the diagonals of the matrix. For non-periodic boundary conditions, the matrix $\\mathbf{A}$ is banded. (We can modify how we treat the periodicity of the domain if we want to use a periodic matrix, we just can not encode all that information into the matrix $\\mathbf{A}$.)\n",
    "\n"
   ]
  },
  {
   "cell_type": "code",
   "execution_count": null,
   "metadata": {},
   "outputs": [],
   "source": []
  }
 ],
 "metadata": {
  "kernelspec": {
   "display_name": "Python 3",
   "language": "python",
   "name": "python3"
  },
  "language_info": {
   "codemirror_mode": {
    "name": "ipython",
    "version": 3
   },
   "file_extension": ".py",
   "mimetype": "text/x-python",
   "name": "python",
   "nbconvert_exporter": "python",
   "pygments_lexer": "ipython3",
   "version": "3.7.6"
  }
 },
 "nbformat": 4,
 "nbformat_minor": 4
}
